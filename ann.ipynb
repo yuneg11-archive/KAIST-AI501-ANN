{
  "cells": [
    {
      "cell_type": "markdown",
      "metadata": {
        "id": "ojefZAwZQ24k"
      },
      "source": [
        "# Artitificial Neural Networks (MNIST)"
      ]
    },
    {
      "cell_type": "markdown",
      "metadata": {
        "id": "wLOJiSABu3zh"
      },
      "source": [
        "## Import modules"
      ]
    },
    {
      "cell_type": "code",
      "execution_count": 1,
      "metadata": {
        "id": "RT3TvzfQrHYz"
      },
      "outputs": [],
      "source": [
        "import torch\n",
        "from torch import nn, optim\n",
        "from torch.nn import functional as F\n",
        "from torch.utils.data import DataLoader\n",
        "\n",
        "from torchvision import datasets, transforms\n",
        "\n",
        "from matplotlib import pyplot as plt\n",
        "\n",
        "torch.manual_seed(0)\n",
        "torch.cuda.manual_seed(0)"
      ]
    },
    {
      "cell_type": "markdown",
      "metadata": {
        "id": "XcTIMknRSK9F"
      },
      "source": [
        "## Connect to Google Drive (in Google Colab)"
      ]
    },
    {
      "cell_type": "code",
      "execution_count": 2,
      "metadata": {
        "id": "AYPHQw2vSJwf"
      },
      "outputs": [],
      "source": [
        "try:\n",
        "    from google.colab import drive\n",
        "    import os\n",
        "\n",
        "    drive.mount(\"/gdrive\")\n",
        "    gdrive_root = \"/gdrive/My Drive\"\n",
        "    data_dir = os.path.join(gdrive_root, \"AI501HW5\")\n",
        "except:\n",
        "    data_dir = \"./\""
      ]
    },
    {
      "cell_type": "markdown",
      "metadata": {
        "id": "G8dVjrZ0uugh"
      },
      "source": [
        "## Set hyperparameters"
      ]
    },
    {
      "cell_type": "code",
      "execution_count": 3,
      "metadata": {
        "id": "BxmO04LRuIiR"
      },
      "outputs": [],
      "source": [
        "max_epoch = 30\n",
        "learning_rate = 0.0001\n",
        "batch_size = 512\n",
        "test_batch_size = 1024\n",
        "device = \"cuda\""
      ]
    },
    {
      "cell_type": "markdown",
      "metadata": {
        "id": "_iTJn-ULvAzj"
      },
      "source": [
        "## Construct data pipeline"
      ]
    },
    {
      "cell_type": "code",
      "execution_count": 4,
      "metadata": {
        "id": "fkhOyZFSuPMJ"
      },
      "outputs": [],
      "source": [
        "train_dataset = datasets.MNIST(root=data_dir, train=True, download=True, transform=transforms.ToTensor())\n",
        "train_loader = DataLoader(train_dataset, batch_size=batch_size, shuffle=True, pin_memory=True)\n",
        "\n",
        "test_dataset = datasets.MNIST(root=data_dir, train=False, download=True, transform=transforms.ToTensor())\n",
        "test_loader = DataLoader(test_dataset, batch_size=test_batch_size, shuffle=False, pin_memory=True)\n",
        "\n",
        "classes = (\"0\",\"1\",\"2\",\"3\",\"4\",\"5\",\"6\",\"7\",\"8\",\"9\")"
      ]
    },
    {
      "cell_type": "markdown",
      "metadata": {
        "id": "rF2HWSLovFig"
      },
      "source": [
        "## Define a model"
      ]
    },
    {
      "cell_type": "code",
      "execution_count": 5,
      "metadata": {
        "id": "E4p_iIOau6fh"
      },
      "outputs": [],
      "source": [
        "class Classifier(nn.Module):\n",
        "    def __init__(self):\n",
        "        super().__init__()\n",
        "\n",
        "        self.conv1 = nn.Conv2d(in_channels=1, out_channels=32, kernel_size=3)\n",
        "        self.relu1 = nn.ReLU()\n",
        "        self.maxpool1 = nn.MaxPool2d(kernel_size=2)\n",
        "        self.conv2 = nn.Conv2d(in_channels=32, out_channels=64, kernel_size=3)\n",
        "        self.relu2 = nn.ReLU()\n",
        "        self.maxpool2 = nn.MaxPool2d(kernel_size=2)\n",
        "        self.flatten = nn.Flatten()\n",
        "        self.linear = nn.Linear(in_features=1600, out_features=10)\n",
        "\n",
        "    def forward(self, x):\n",
        "        x = self.maxpool1(self.relu1(self.conv1(x)))\n",
        "        x = self.maxpool2(self.relu2(self.conv2(x)))\n",
        "        x = self.flatten(x)\n",
        "        x = self.linear(x)\n",
        "        return x"
      ]
    },
    {
      "cell_type": "markdown",
      "metadata": {
        "id": "idzErCDPvN6k"
      },
      "source": [
        "## Initilize the model and optimizer"
      ]
    },
    {
      "cell_type": "code",
      "execution_count": null,
      "metadata": {},
      "outputs": [],
      "source": []
    },
    {
      "cell_type": "code",
      "execution_count": 6,
      "metadata": {
        "id": "piYaSHpYv3ve"
      },
      "outputs": [
        {
          "name": "stdout",
          "output_type": "stream",
          "text": [
            "Model Structure\n",
            "Classifier(\n",
            "  (conv1): Conv2d(1, 32, kernel_size=(3, 3), stride=(1, 1))\n",
            "  (relu1): ReLU()\n",
            "  (maxpool1): MaxPool2d(kernel_size=2, stride=2, padding=0, dilation=1, ceil_mode=False)\n",
            "  (conv2): Conv2d(32, 64, kernel_size=(3, 3), stride=(1, 1))\n",
            "  (relu2): ReLU()\n",
            "  (maxpool2): MaxPool2d(kernel_size=2, stride=2, padding=0, dilation=1, ceil_mode=False)\n",
            "  (flatten): Flatten(start_dim=1, end_dim=-1)\n",
            "  (linear): Linear(in_features=1600, out_features=10, bias=True)\n",
            ")\n"
          ]
        }
      ],
      "source": [
        "model = Classifier().to(device)\n",
        "optimizer = optim.Adam(model.parameters(), lr=learning_rate)\n",
        "\n",
        "print(\"Model Structure\")\n",
        "print(model)"
      ]
    },
    {
      "cell_type": "markdown",
      "metadata": {
        "id": "KprL2GoivSYF"
      },
      "source": [
        "## Define the training procedure"
      ]
    },
    {
      "cell_type": "code",
      "execution_count": 7,
      "metadata": {
        "id": "uC1DKJhdvlD7"
      },
      "outputs": [],
      "source": [
        "def train(model, optimizer, train_loader):\n",
        "    model.train()\n",
        "\n",
        "    train_loss = 0\n",
        "    train_corrects = 0\n",
        "\n",
        "    for x, y in train_loader:\n",
        "        inputs = x.to(device)\n",
        "        labels = y.to(device)\n",
        "        outputs = model(inputs)\n",
        "\n",
        "        optimizer.zero_grad()\n",
        "\n",
        "        loss = F.cross_entropy(outputs, labels)\n",
        "        loss.backward()\n",
        "\n",
        "        optimizer.step()\n",
        "\n",
        "        train_loss += loss.item() * len(x)\n",
        "        train_corrects += labels.eq(outputs.argmax(dim=1)).sum().item()\n",
        "\n",
        "    train_loss /= len(train_loader.dataset)\n",
        "    train_acc = train_corrects / len(train_loader.dataset)\n",
        "\n",
        "    return train_loss, train_acc"
      ]
    },
    {
      "cell_type": "markdown",
      "metadata": {
        "id": "tbAubu0XvbJn"
      },
      "source": [
        "## Define the testing procedure"
      ]
    },
    {
      "cell_type": "code",
      "execution_count": 8,
      "metadata": {
        "id": "iK77lVwB0XOe"
      },
      "outputs": [],
      "source": [
        "def test(model, test_loader):\n",
        "    model.eval()\n",
        "\n",
        "    test_loss = 0\n",
        "    test_corrects = 0\n",
        "\n",
        "    with torch.no_grad():\n",
        "        for x, y in test_loader:\n",
        "            inputs = x.to(device)\n",
        "            labels = y.to(device)\n",
        "            outputs = model(inputs)\n",
        "\n",
        "            loss = F.cross_entropy(outputs, labels)\n",
        "\n",
        "            test_loss += loss.item() * len(x)\n",
        "            test_corrects += labels.eq(outputs.argmax(dim=1)).sum().item()\n",
        "\n",
        "        test_loss /= len(test_loader.dataset)\n",
        "        test_acc = test_corrects / len(test_loader.dataset)\n",
        "\n",
        "    return test_loss, test_acc"
      ]
    },
    {
      "cell_type": "markdown",
      "metadata": {
        "id": "6Z3EN2_mvhfE"
      },
      "source": [
        "## Train the model"
      ]
    },
    {
      "cell_type": "code",
      "execution_count": 9,
      "metadata": {
        "id": "oIJlwpZ5rpWS"
      },
      "outputs": [
        {
          "name": "stdout",
          "output_type": "stream",
          "text": [
            "[epoch  0] Train loss: 1.8676 / accuracy: 0.6252 | Test loss: 1.1480 / accuracy: 0.7933\n",
            "[epoch  1] Train loss: 0.7438 / accuracy: 0.8326 | Test loss: 0.4922 / accuracy: 0.8782\n",
            "[epoch  2] Train loss: 0.4280 / accuracy: 0.8859 | Test loss: 0.3473 / accuracy: 0.9049\n",
            "[epoch  3] Train loss: 0.3269 / accuracy: 0.9084 | Test loss: 0.2795 / accuracy: 0.9225\n",
            "[epoch  4] Train loss: 0.2680 / accuracy: 0.9233 | Test loss: 0.2279 / accuracy: 0.9378\n",
            "[epoch  5] Train loss: 0.2269 / accuracy: 0.9352 | Test loss: 0.1933 / accuracy: 0.9455\n",
            "[epoch  6] Train loss: 0.1948 / accuracy: 0.9445 | Test loss: 0.1660 / accuracy: 0.9533\n",
            "[epoch  7] Train loss: 0.1695 / accuracy: 0.9516 | Test loss: 0.1452 / accuracy: 0.9577\n",
            "[epoch  8] Train loss: 0.1501 / accuracy: 0.9575 | Test loss: 0.1277 / accuracy: 0.9648\n",
            "[epoch  9] Train loss: 0.1348 / accuracy: 0.9618 | Test loss: 0.1159 / accuracy: 0.9675\n",
            "[epoch 10] Train loss: 0.1225 / accuracy: 0.9654 | Test loss: 0.1058 / accuracy: 0.9697\n",
            "[epoch 11] Train loss: 0.1130 / accuracy: 0.9678 | Test loss: 0.0970 / accuracy: 0.9721\n",
            "[epoch 12] Train loss: 0.1050 / accuracy: 0.9697 | Test loss: 0.0912 / accuracy: 0.9733\n",
            "[epoch 13] Train loss: 0.0984 / accuracy: 0.9717 | Test loss: 0.0848 / accuracy: 0.9754\n",
            "[epoch 14] Train loss: 0.0928 / accuracy: 0.9730 | Test loss: 0.0807 / accuracy: 0.9762\n",
            "[epoch 15] Train loss: 0.0882 / accuracy: 0.9746 | Test loss: 0.0759 / accuracy: 0.9778\n",
            "[epoch 16] Train loss: 0.0841 / accuracy: 0.9752 | Test loss: 0.0733 / accuracy: 0.9782\n",
            "[epoch 17] Train loss: 0.0807 / accuracy: 0.9763 | Test loss: 0.0686 / accuracy: 0.9800\n",
            "[epoch 18] Train loss: 0.0776 / accuracy: 0.9776 | Test loss: 0.0677 / accuracy: 0.9792\n",
            "[epoch 19] Train loss: 0.0745 / accuracy: 0.9782 | Test loss: 0.0646 / accuracy: 0.9802\n",
            "[epoch 20] Train loss: 0.0718 / accuracy: 0.9787 | Test loss: 0.0628 / accuracy: 0.9808\n",
            "[epoch 21] Train loss: 0.0699 / accuracy: 0.9794 | Test loss: 0.0604 / accuracy: 0.9805\n",
            "[epoch 22] Train loss: 0.0674 / accuracy: 0.9799 | Test loss: 0.0598 / accuracy: 0.9820\n",
            "[epoch 23] Train loss: 0.0654 / accuracy: 0.9805 | Test loss: 0.0569 / accuracy: 0.9813\n",
            "[epoch 24] Train loss: 0.0638 / accuracy: 0.9811 | Test loss: 0.0558 / accuracy: 0.9816\n",
            "[epoch 25] Train loss: 0.0619 / accuracy: 0.9819 | Test loss: 0.0545 / accuracy: 0.9831\n",
            "[epoch 26] Train loss: 0.0604 / accuracy: 0.9820 | Test loss: 0.0539 / accuracy: 0.9826\n",
            "[epoch 27] Train loss: 0.0593 / accuracy: 0.9823 | Test loss: 0.0522 / accuracy: 0.9837\n",
            "[epoch 28] Train loss: 0.0576 / accuracy: 0.9832 | Test loss: 0.0508 / accuracy: 0.9836\n",
            "[epoch 29] Train loss: 0.0564 / accuracy: 0.9833 | Test loss: 0.0504 / accuracy: 0.9836\n"
          ]
        }
      ],
      "source": [
        "train_loss_hist = []\n",
        "train_acc_hist = []\n",
        "test_loss_hist = []\n",
        "test_acc_hist = []\n",
        "\n",
        "for epoch in range(max_epoch):\n",
        "    print(f\"[epoch {epoch:2d}] \", end=\"\", flush=True)\n",
        "\n",
        "    train_loss, train_acc = train(model, optimizer, train_loader)\n",
        "    print(f\"Train loss: {train_loss:.4f} / accuracy: {train_acc:.4f}\", end=\" | \", flush=True)\n",
        "\n",
        "    test_loss, test_acc = test(model, test_loader)\n",
        "    print(f\"Test loss: {test_loss:.4f} / accuracy: {test_acc:.4f}\", flush=True)\n",
        "\n",
        "    train_loss_hist.append(train_loss)\n",
        "    train_acc_hist.append(train_acc)\n",
        "    test_loss_hist.append(test_loss)\n",
        "    test_acc_hist.append(test_acc)"
      ]
    },
    {
      "cell_type": "markdown",
      "metadata": {},
      "source": [
        "## Plot training result"
      ]
    },
    {
      "cell_type": "code",
      "execution_count": 10,
      "metadata": {},
      "outputs": [
        {
          "data": {
            "image/png": "[encoded data removed]",
            "text/plain": "<Figure size 576x432 with 2 Axes>"
          },
          "metadata": {
            "needs_background": "light"
          },
          "output_type": "display_data"
        }
      ],
      "source": [
        "def plot_history(train_loss_hist, train_acc_hist, test_loss_hist, test_acc_hist):\n",
        "    fig, axes = plt.subplots(2, 1, figsize=(8, 6))\n",
        "\n",
        "    axes[0].set_xlim(0, len(train_loss_hist))\n",
        "    axes[0].plot(range(len(train_loss_hist)), train_loss_hist, label=\"Train Loss\")\n",
        "    axes[0].plot(range(len(test_loss_hist)), test_loss_hist, label=\"Test Loss\")\n",
        "    axes[0].set_ylabel(\"Loss\", fontsize=13)\n",
        "    axes[0].legend(fontsize=13)\n",
        "\n",
        "    axes[1].set_xlim(0, len(train_acc_hist))\n",
        "    axes[1].plot(range(len(train_acc_hist)), train_acc_hist, label=\"Train Accuracy\")\n",
        "    axes[1].plot(range(len(test_acc_hist)), test_acc_hist, label=\"Test Accuracy\")\n",
        "    axes[1].plot(range(len(test_acc_hist)), [0.98] * len(test_acc_hist), \"k:\", label=\"Accuracy 0.98\")\n",
        "    axes[1].set_ylabel(\"Accuracy\", fontsize=13)\n",
        "    axes[1].set_xlabel(\"Epoch\", fontsize=13)\n",
        "    axes[1].legend(fontsize=13)\n",
        "\n",
        "    fig.suptitle(\"Train result\", fontsize=15)\n",
        "    fig.tight_layout()\n",
        "\n",
        "    return fig\n",
        "\n",
        "plot_history(train_loss_hist, train_acc_hist, test_loss_hist, test_acc_hist).show()"
      ]
    },
    {
      "cell_type": "markdown",
      "metadata": {
        "id": "qQir0Tmvvn0M"
      },
      "source": [
        "## Plot classification result"
      ]
    },
    {
      "cell_type": "code",
      "execution_count": 11,
      "metadata": {
        "id": "5Jma23UW2P-Q"
      },
      "outputs": [],
      "source": [
        "model.eval()\n",
        "\n",
        "rand_idx = torch.randint(low=0, high=len(test_loader.dataset), size=(6,))\n",
        "\n",
        "test_inputs = torch.stack([test_dataset[idx][0] for idx in rand_idx])\n",
        "test_labels = torch.tensor([test_dataset[idx][1] for idx in rand_idx])\n",
        "test_predictions = model(test_inputs.to(device)).argmax(dim=1)\n",
        "\n",
        "test_images = test_inputs.squeeze(dim=1)"
      ]
    },
    {
      "cell_type": "code",
      "execution_count": 12,
      "metadata": {},
      "outputs": [
        {
          "data": {
            "image/png": "[encoded data removed]",
            "text/plain": "<Figure size 648x432 with 6 Axes>"
          },
          "metadata": {
            "needs_background": "light"
          },
          "output_type": "display_data"
        }
      ],
      "source": [
        "def plot_classification(images, labels, predictions, size):\n",
        "    fig, axes = plt.subplots(*size, figsize=(size[1] * 3, size[0] * 3))\n",
        "\n",
        "    for idx, (image, label, prediction) in enumerate(zip(images, labels, predictions)):\n",
        "        i, j = idx // size[1], idx % size[1]\n",
        "        axes[i, j].imshow(image, cmap=\"gray\")\n",
        "        axes[i, j].set_title(f\"label: {label} / prediction: {prediction}\", y=-0.13)\n",
        "        axes[i, j].axis(\"off\")\n",
        "\n",
        "    fig.suptitle(\"Classification result\", fontsize=15)\n",
        "    fig.tight_layout()\n",
        "\n",
        "    return fig\n",
        "\n",
        "plot_classification(test_images, test_labels, test_predictions, size=(2, 3)).show()"
      ]
    },
    {
      "cell_type": "markdown",
      "metadata": {
        "id": "Lq65J9y0vxMY"
      },
      "source": [
        "## Discussion and Analysis"
      ]
    },
    {
      "cell_type": "markdown",
      "metadata": {
        "id": "zWpApAS0v1yf"
      },
      "source": [
        "Fill here with your discussion"
      ]
    }
  ],
  "metadata": {
    "language_info": {
      "file_extension": ".py",
      "mimetype": "text/x-python",
      "name": "python",
      "nbconvert_exporter": "python",
      "pygments_lexer": "ipython3",
      "version": "3.9.1"
    }
  },
  "nbformat": 4,
  "nbformat_minor": 0
}