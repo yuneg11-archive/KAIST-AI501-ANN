{
  "nbformat": 4,
  "nbformat_minor": 0,
  "metadata": {
    "colab": {
      "name": "AI501 Assignment 5",
      "provenance": [],
      "collapsed_sections": []
    },
    "kernelspec": {
      "name": "python3",
      "display_name": "Python 3"
    },
    "language_info": {
      "name": "python"
    },
    "accelerator": "GPU"
  },
  "cells": [
    {
      "cell_type": "markdown",
      "metadata": {
        "id": "ojefZAwZQ24k"
      },
      "source": [
        "# AI501 Assignment 5: Artitificial Neural Networks\n",
        "\n"
      ]
    },
    {
      "cell_type": "markdown",
      "metadata": {
        "id": "wLOJiSABu3zh"
      },
      "source": [
        "## Import Modules"
      ]
    },
    {
      "cell_type": "code",
      "metadata": {
        "id": "RT3TvzfQrHYz"
      },
      "source": [
        "import os\n",
        "import torch\n",
        "import torch.optim as optim\n",
        "import torch.nn as nn\n",
        "import torch.nn.functional as F\n",
        "from torch.utils.data import DataLoader\n",
        "import torchvision\n",
        "from torchvision import transforms\n",
        "\n",
        "torch.manual_seed(0)"
      ],
      "execution_count": null,
      "outputs": []
    },
    {
      "cell_type": "markdown",
      "metadata": {
        "id": "XcTIMknRSK9F"
      },
      "source": [
        "## Connect to Your Google Drive"
      ]
    },
    {
      "cell_type": "code",
      "metadata": {
        "id": "AYPHQw2vSJwf"
      },
      "source": [
        "from google.colab import drive\n",
        "\n",
        "drive.mount('/gdrive')\n",
        "gdrive_root = '/gdrive/My Drive'"
      ],
      "execution_count": null,
      "outputs": []
    },
    {
      "cell_type": "markdown",
      "metadata": {
        "id": "G8dVjrZ0uugh"
      },
      "source": [
        "## Set Hyperparameters"
      ]
    },
    {
      "cell_type": "code",
      "metadata": {
        "id": "BxmO04LRuIiR"
      },
      "source": [
        "#########################\n",
        "# examples\n",
        "max_epoch = 10\n",
        "learning_rate = 0.001\n",
        "batch_size = 128\n",
        "#########################\n",
        "device = 'cuda'"
      ],
      "execution_count": null,
      "outputs": []
    },
    {
      "cell_type": "markdown",
      "metadata": {
        "id": "_iTJn-ULvAzj"
      },
      "source": [
        "## Construct Data Pipeline\n",
        "*DO NOT MODIFY THIS SECTION FOR EFFICIENT GRADING*"
      ]
    },
    {
      "cell_type": "code",
      "metadata": {
        "id": "fkhOyZFSuPMJ"
      },
      "source": [
        "data_dir = os.path.join(gdrive_root, 'AI501HW5')\n",
        "\n",
        "train_dataset = torchvision.datasets.MNIST(root=data_dir, train=True, download=True, transform=transforms.ToTensor())\n",
        "train_loader = torch.utils.data.DataLoader(train_dataset, batch_size=batch_size, shuffle=True)\n",
        "\n",
        "test_dataset = torchvision.datasets.MNIST(root=data_dir, train=False, download=True, transform=transforms.ToTensor())\n",
        "test_loader = torch.utils.data.DataLoader(test_dataset, batch_size=batch_size, shuffle=False)\n",
        "\n",
        "classes = (\"0\",\"1\",\"2\",\"3\",\"4\",\"5\",\"6\",\"7\",\"8\",\"9\")"
      ],
      "execution_count": null,
      "outputs": []
    },
    {
      "cell_type": "markdown",
      "metadata": {
        "id": "rF2HWSLovFig"
      },
      "source": [
        "##Define a Model"
      ]
    },
    {
      "cell_type": "code",
      "metadata": {
        "id": "E4p_iIOau6fh"
      },
      "source": [
        "class Classifier(nn.Module):\n",
        "    def __init__(self):\n",
        "        super(Classifier, self).__init__()\n",
        "        ##################################\n",
        "        # assign your layer components. refer to \"torch.nn\"\n",
        "\n",
        "        ##################################\n",
        "\n",
        "    def forward(self, x):\n",
        "        ##################################\n",
        "        # stack the components (example: Convolutional NN -> Flatten -> Multi-layer Perceptron)\n",
        "\n",
        "        outputs = None\n",
        "        ##################################\n",
        "        return outputs"
      ],
      "execution_count": null,
      "outputs": []
    },
    {
      "cell_type": "markdown",
      "metadata": {
        "id": "idzErCDPvN6k"
      },
      "source": [
        "##Initilize the model and optimizer"
      ]
    },
    {
      "cell_type": "code",
      "metadata": {
        "id": "piYaSHpYv3ve"
      },
      "source": [
        "model = Classifier().to(device)\n",
        "print(\"Model Structure\")\n",
        "print(model)\n",
        "\n",
        "optimizer = optim.Adam(model.parameters(), lr=learning_rate)"
      ],
      "execution_count": null,
      "outputs": []
    },
    {
      "cell_type": "markdown",
      "metadata": {
        "id": "KprL2GoivSYF"
      },
      "source": [
        "##Define the Training Procedure"
      ]
    },
    {
      "cell_type": "code",
      "metadata": {
        "id": "uC1DKJhdvlD7"
      },
      "source": [
        "def train(epoch):\n",
        "    model.train()\n",
        "    for i, (x, y) in enumerate(train_loader):\n",
        "        inputs = x.to(device)\n",
        "        labels = y.to(device)\n",
        "        ####################################\n",
        "        # write your training logic\n",
        "\n",
        "        loss = None\n",
        "        ####################################\n",
        "        if i % (len(train_loader.dataset)//batch_size//4) == 0:\n",
        "            print('[epoch{:3d}] train loss {:.4f}'.format(epoch, loss.item()))"
      ],
      "execution_count": null,
      "outputs": []
    },
    {
      "cell_type": "markdown",
      "metadata": {
        "id": "tbAubu0XvbJn"
      },
      "source": [
        "##Define the Testing Procedure"
      ]
    },
    {
      "cell_type": "code",
      "metadata": {
        "id": "iK77lVwB0XOe"
      },
      "source": [
        "def test(epoch):\n",
        "    model.eval()\n",
        "    test_loss = 0\n",
        "    test_accuracy = 0\n",
        "    for i, (x, y) in enumerate(test_loader):\n",
        "        inputs = x.to(device)\n",
        "        labels = y.to(device)\n",
        "        ####################################\n",
        "        # write your testing logic\n",
        "\n",
        "        loss = None\n",
        "        accuracy = None\n",
        "        ####################################\n",
        "        test_loss += loss.item()*x.size(0)\n",
        "        test_accuracy += accuracy.item()*x.size(0)\n",
        "    \n",
        "    test_loss /= len(test_loader.dataset)\n",
        "    test_accuracy /= len(test_loader.dataset)\n",
        "    print('[epoch{:3d}] test loss {:.4f} test accuracy {:.4f}'.format(epoch, test_loss, test_accuracy)) "
      ],
      "execution_count": null,
      "outputs": []
    },
    {
      "cell_type": "markdown",
      "metadata": {
        "id": "6Z3EN2_mvhfE"
      },
      "source": [
        "##Training the model"
      ]
    },
    {
      "cell_type": "code",
      "metadata": {
        "id": "oIJlwpZ5rpWS"
      },
      "source": [
        "# Training\n",
        "for epoch in range(max_epoch):\n",
        "    train(epoch)\n",
        "    test(epoch)"
      ],
      "execution_count": null,
      "outputs": []
    },
    {
      "cell_type": "markdown",
      "metadata": {
        "id": "qQir0Tmvvn0M"
      },
      "source": [
        "## Classify a given data"
      ]
    },
    {
      "cell_type": "code",
      "metadata": {
        "id": "5Jma23UW2P-Q"
      },
      "source": [
        "import random\n",
        "import matplotlib.pyplot as plt\n",
        "import numpy as np\n",
        "\n",
        "model.eval()\n",
        "random_idx = random.randint(0, len(test_loader.dataset))\n",
        "test_input, test_label = test_dataset.__getitem__(random_idx)\n",
        "test_prediction = F.softmax(model(test_input.unsqueeze(0).to(device)), dim=1).argmax().item()\n",
        "print('label : %s' % classes[test_label])\n",
        "print('prediction : %s' % classes[test_prediction])\n",
        "\n",
        "# functions to show an image\n",
        "def imshow(img):\n",
        "    npimg = img.numpy()\n",
        "    plt.imshow(np.transpose(npimg, (1, 2, 0)))\n",
        "\n",
        "# show images\n",
        "imshow(torchvision.utils.make_grid(test_input))"
      ],
      "execution_count": null,
      "outputs": []
    },
    {
      "cell_type": "markdown",
      "metadata": {
        "id": "Lq65J9y0vxMY"
      },
      "source": [
        "## Discussion and Analysis"
      ]
    },
    {
      "cell_type": "markdown",
      "metadata": {
        "id": "zWpApAS0v1yf"
      },
      "source": [
        "Fill here with your discussion"
      ]
    }
  ]
}